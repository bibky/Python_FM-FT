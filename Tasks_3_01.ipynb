{
 "cells": [
  {
   "cell_type": "code",
   "execution_count": 1,
   "id": "4b079f3f",
   "metadata": {},
   "outputs": [
    {
     "name": "stdout",
     "output_type": "stream",
     "text": [
      "Оценка B\n"
     ]
    }
   ],
   "source": [
    "#Задание 1.1\n",
    "def marks (a): \n",
    "    assert 0 <= a <= 100, \"Оценка должна быть от 0 до 100\"\n",
    "    if 90 <= a <= 100:\n",
    "        print('Оценка A')\n",
    "    elif 80 <= a <= 89:\n",
    "        print('Оценка B')\n",
    "    elif 70 <= a <= 79:\n",
    "        print('Оценка A')\n",
    "    elif 60 <= a <= 69:\n",
    "        print('Оценка A')\n",
    "    elif 0 <= a <= 59:\n",
    "        print('Оценка F')\n",
    "    else:\n",
    "        print('Ведите оценку от 0 до 100!')    \n",
    "marks(89)"
   ]
  },
  {
   "cell_type": "code",
   "execution_count": null,
   "id": "d5d9a4d4",
   "metadata": {},
   "outputs": [],
   "source": [
    "#Задание 1.2\n",
    "def leap_years(year):\n",
    "    res = 'Год високосный' if ((year % 4 == 0 and year % 100 != 0) or year % 400 == 0) else 'Год обычный'\n",
    "    return res\n",
    "\n",
    "leap_years(2024)"
   ]
  },
  {
   "cell_type": "code",
   "execution_count": 3,
   "id": "da07e834",
   "metadata": {},
   "outputs": [
    {
     "name": "stdout",
     "output_type": "stream",
     "text": [
      "Не является треугольником (сумма двух сторон меньше третьей)\n"
     ]
    }
   ],
   "source": [
    "#Задание 1.3\n",
    "def triangle (a, b, c):\n",
    "    if a == b == c:\n",
    "        print('Треугольник равносторонний')\n",
    "    elif a == b or b == c or c == a:\n",
    "        print('Треугольник равнобедренный')\n",
    "    elif ((a + b > c) and (a + c > b) and (b + c > a)):\n",
    "        print('Треугольник разносторонний')\n",
    "    else:\n",
    "        print('Не является треугольником (сумма двух сторон меньше третьей)')\n",
    "triangle(5, 7, 14)"
   ]
  },
  {
   "cell_type": "code",
   "execution_count": 6,
   "id": "7d353e7e",
   "metadata": {},
   "outputs": [
    {
     "name": "stdout",
     "output_type": "stream",
     "text": [
      "[1, 2, 3, 4, 5, 6, 7, 8, 9, 10]\n",
      "[2, 4, 6, 8, 10, 12, 14, 16, 18, 20]\n",
      "[3, 6, 9, 12, 15, 18, 21, 24, 27, 30]\n",
      "[4, 8, 12, 16, 20, 24, 28, 32, 36, 40]\n",
      "[5, 10, 15, 20, 25, 30, 35, 40, 45, 50]\n",
      "[6, 12, 18, 24, 30, 36, 42, 48, 54, 60]\n",
      "[7, 14, 21, 28, 35, 42, 49, 56, 63, 70]\n",
      "[8, 16, 24, 32, 40, 48, 56, 64, 72, 80]\n",
      "[9, 18, 27, 36, 45, 54, 63, 72, 81, 90]\n",
      "[10, 20, 30, 40, 50, 60, 70, 80, 90, 100]\n"
     ]
    }
   ],
   "source": [
    "#Задание 2.1\n",
    "multiplication_table = []\n",
    "for i in range(1, 11):\n",
    "    row = []\n",
    "    for j in range(1, 11):\n",
    "        row.append(i*j)\n",
    "    multiplication_table.append(row)\n",
    "    print(row)\n"
   ]
  },
  {
   "cell_type": "code",
   "execution_count": 7,
   "id": "0a459a6f",
   "metadata": {},
   "outputs": [
    {
     "name": "stdout",
     "output_type": "stream",
     "text": [
      "\n",
      " [2, 3, 5, 7, 11, 13, 17, 19, 23, 29, 31, 37, 41, 43, 47, 53, 59, 61, 67, 71, 73, 79, 83, 89, 97]\n"
     ]
    }
   ],
   "source": [
    "#Задание 2.2\n",
    "lst = []\n",
    "def prime_numbers(n):\n",
    "    for i in range(2, n+1):\n",
    "        C=True\n",
    "        for j in range(2, i):\n",
    "            if i % j == 0:\n",
    "                C=False\n",
    "                break\n",
    "        if C:\n",
    "                lst.append(i)\n",
    "    return(lst)\n",
    "                       \n",
    "print(\"\\n\", prime_numbers(100))"
   ]
  },
  {
   "cell_type": "code",
   "execution_count": 9,
   "id": "c1bf3624",
   "metadata": {},
   "outputs": [
    {
     "name": "stdout",
     "output_type": "stream",
     "text": [
      "Вы угадали число\n",
      "Количество попыток: 4\n"
     ]
    }
   ],
   "source": [
    "#Задание 2.3\n",
    "import random\n",
    "def rand():\n",
    "    num = random.randint(1, 100)\n",
    "    a = int(input('Попробуйте угадать число'))\n",
    "    k = 1\n",
    "    while a != num:\n",
    "        k += 1\n",
    "        if a > num:\n",
    "            a = int(input('Загаданное число меньше'))\n",
    "        elif a < num:\n",
    "            a = int(input('Загаданное число больше'))\n",
    "    print('Вы угадали число')\n",
    "    print(f'Количество попыток: {k}')\n",
    "rand()\n"
   ]
  },
  {
   "cell_type": "code",
   "execution_count": 10,
   "id": "90e38c88",
   "metadata": {},
   "outputs": [
    {
     "name": "stdout",
     "output_type": "stream",
     "text": [
      "Количество символов в предложении: 173\n",
      "Количество слов в предложении: 30\n",
      "Количество предложений: 3\n",
      "Топ-5 частоповторяющихся слов: [('пупа', 2), ('и', 2), ('лупа', 2), ('не', 2), ('получил', 2)]\n"
     ]
    }
   ],
   "source": [
    "#Задание 2.4\n",
    "from collections import Counter\n",
    "import re\n",
    "\n",
    "text = 'Пупа и Лупа устроились на работу. Проработали целый месяц, трудились не покладая рук и не жалея живота своего. В итоге Лупа получил зарплату за Пупу, а Пупа получил за Лупу.'\n",
    "l = len(text) #Количество букв\n",
    "words = text.split() #Количество слов\n",
    "word_count = len(words)\n",
    "sentences = re.findall(r'[^.!?]*[.!?]', text)\n",
    "sentences = len(sentences)\n",
    "words = re.findall(r'\\b\\w+\\b', text.lower())\n",
    "top_words = Counter(words).most_common(5)\n",
    "print(f'Количество символов в предложении: {l}')\n",
    "print(f'Количество слов в предложении: {word_count}')\n",
    "print(f'Количество предложений: {sentences}')\n",
    "print(f'Топ-5 частоповторяющихся слов: {top_words}')\n",
    "\n",
    "\n",
    "\n"
   ]
  },
  {
   "cell_type": "code",
   "execution_count": null,
   "id": "961ecccd",
   "metadata": {},
   "outputs": [
    {
     "name": "stdout",
     "output_type": "stream",
     "text": [
      "Ответ:0.375\n"
     ]
    }
   ],
   "source": [
    "#Задание 3.1\n",
    "try:\n",
    "    a = 3 \n",
    "    b = 8\n",
    "    operation = '/'\n",
    "except NameError:\n",
    "    print(\"Файл не найден!\")\n",
    "except ValueError:\n",
    "    print(\"Содержимое файла не является числом!\")\n",
    "try:\n",
    "    if operation == '*':\n",
    "        answer = a*b\n",
    "    elif operation == '+':\n",
    "        answer = a+b\n",
    "    elif operation == '-':\n",
    "        answer = a-b\n",
    "    elif operation == '/':\n",
    "        answer = a/b # comm\n",
    "except ZeroDivisionError:\n",
    "    print(\"На ноль делить нельзя!\")\n",
    "except Exception as e:\n",
    "    print(\"Неизвестная ошибка\")\n",
    "print(f'Ответ:{answer}')"
   ]
  },
  {
   "cell_type": "code",
   "execution_count": 2,
   "id": "54862d0d",
   "metadata": {},
   "outputs": [
    {
     "data": {
      "text/plain": [
       "27"
      ]
     },
     "execution_count": 2,
     "metadata": {},
     "output_type": "execute_result"
    }
   ],
   "source": [
    "def safe_calculator(a, b, operation):\n",
    "    try:\n",
    "        match operation:\n",
    "            case '*':\n",
    "                return a * b\n",
    "            case '+':\n",
    "                return a + b\n",
    "            case '-':\n",
    "                return a - b\n",
    "            case '/':\n",
    "                if b == 0:\n",
    "                    raise ZeroDivisionError(\"Деление на ноль\")\n",
    "                return a / b\n",
    "            case _:\n",
    "                raise ValueError(f\"Неподдерживаемая операция: {operation}\")\n",
    "    \n",
    "    except (ZeroDivisionError, ValueError) as e:\n",
    "        return f\"Ошибка: {e}\"\n",
    "    except Exception as e:\n",
    "        return f\"Неожиданная ошибка: {e}\"\n",
    "\n",
    "safe_calculator(3,9, '*')\n"
   ]
  },
  {
   "cell_type": "code",
   "execution_count": 3,
   "id": "38f4c8cc",
   "metadata": {},
   "outputs": [],
   "source": [
    "#Задание 3.2\n",
    "def read_file():\n",
    "    try:\n",
    "        with open('file.txt', 'r', encoding='utf-8') as f:\n",
    "            content = f.read()\n",
    "    except FileNotFoundError:\n",
    "        print(\"Файл не найден. Проверьте путь и имя.\")\n",
    "    except PermissionError:\n",
    "        print(\"Нет прав доступа к файлу.\")\n",
    "    except UnicodeDecodeError as e:\n",
    "        print(f\"Проблема с кодировкой файла: {e}\")\n",
    "    except OSError as e:\n",
    "        print(f\"Другая ошибка ввода/вывода: {e}\")\n",
    "    finally:\n",
    "        print ('Операция завершена')"
   ]
  },
  {
   "cell_type": "code",
   "execution_count": null,
   "id": "1559b668",
   "metadata": {},
   "outputs": [
    {
     "name": "stdout",
     "output_type": "stream",
     "text": [
      "[9, 14, 23, 37, 60, 97, 157, 254, 411, 665]\n"
     ]
    }
   ],
   "source": [
    "#Задание 3.3 (не доделано, в процессе)\n",
    "class InsufficientFundsError(Exception):\n",
    "    def __init__(self, balance, amount):\n",
    "        self.balance = balance  \n",
    "        self.amount = amount    \n",
    "        message_1 = f\"Недостаточно средств. На счете: {balance}, попытка снять: {amount}\"\n",
    "        super().__init__(message_1)\n",
    "\n",
    "class InvalidAccountError(Exception):\n",
    "    def __init__(self, account, reason=\"номер счета не найден\"):\n",
    "        self.account = account\n",
    "        self.reason = reason\n",
    "        message_2 = f\"Неверный номер счета '{account}': {reason}\"\n",
    "        super().__init__(message_2)\n",
    "\n",
    "class TransactionLmitError(Exception):\n",
    "    def __init__(self, transactions, reason=\"к\"):\n",
    "        self.transactions = transactions\n",
    "        self.reason = reason\n",
    "        message_3 = f\"Превышен лимит транзакций '{transactions}': {reason}\"\n",
    "        super().__init__(message_3)\n",
    "\n",
    "\n",
    "\n",
    "\n"
   ]
  }
 ],
 "metadata": {
  "kernelspec": {
   "display_name": "base",
   "language": "python",
   "name": "python3"
  },
  "language_info": {
   "codemirror_mode": {
    "name": "ipython",
    "version": 3
   },
   "file_extension": ".py",
   "mimetype": "text/x-python",
   "name": "python",
   "nbconvert_exporter": "python",
   "pygments_lexer": "ipython3",
   "version": "3.11.5"
  }
 },
 "nbformat": 4,
 "nbformat_minor": 5
}
